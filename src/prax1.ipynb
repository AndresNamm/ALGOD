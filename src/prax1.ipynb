{
 "cells": [
  {
   "cell_type": "markdown",
   "source": [
    "[1. Sissejuhatus keerukusse](https://owncloud.ut.ee/owncloud/index.php/s/pP6x7sKyFdrrF9j)     \n",
    "[2. O ja Teeta relatsioonid](https://owncloud.ut.ee/owncloud/index.php/s/MgZoPfB23bM5L29)\n",
    "\n",
    "## f(n) \n",
    "\n",
    "Funktsioon, mis ültleb, kui palju samme peab algoritm tegema sõltuvalt **n** -st. **n** = sisendi suurus. \n",
    "![image](https://user-images.githubusercontent.com/21141607/132116815-698ca438-de3b-4314-af8b-22cc912a9ab1.png)\n",
    "\n",
    "## O(g)\n",
    "\n",
    "### f(n) on O(g) kui\n",
    "\n",
    "#### SELETUS 1\n",
    "![image](https://user-images.githubusercontent.com/21141607/132116926-587d0b93-4263-4862-9c06-889d18dfbfd7.png)\n",
    "### SELETUS 2 \n",
    "\n",
    "![image](https://user-images.githubusercontent.com/21141607/132116958-9fc03aad-cfd5-4495-863f-6033c4915ca7.png)\n",
    "\n",
    "### Näide, kus f(n) on O(G)\n",
    "\n",
    "![image](https://user-images.githubusercontent.com/21141607/132117203-8ebb6a16-014b-47d3-b9cf-86f08243757a.png)\n",
    "\n",
    "## Θ(g) - Theta\n",
    "\n",
    "![image](https://user-images.githubusercontent.com/21141607/132117260-1301e1d6-56a3-4094-b9e4-1d3989c06e19.png)\n",
    "\n",
    "+ Töös pole kunagi Thetat kasutama \n",
    "+ Teadust lugedes pole ka Thetat näinud\n",
    "\n",
    "### MIS meil Thetat kursuses kasutatakse\n",
    "\n",
    "+ Alguses on natukene arusaamatu, miks on olemas  O(g), sest see näitab ainult ülemist piiri ja n! või \n",
    "\n",
    "\n",
    "\n",
    "\n",
    "\n",
    "\n",
    "\n"
   ],
   "metadata": {}
  },
  {
   "cell_type": "markdown",
   "source": [
    "$ e^{i \\pi} + 1 = 0 $"
   ],
   "metadata": {}
  },
  {
   "cell_type": "code",
   "execution_count": null,
   "source": [],
   "outputs": [],
   "metadata": {}
  }
 ],
 "metadata": {
  "orig_nbformat": 4,
  "language_info": {
   "name": "python",
   "version": "3.8.11",
   "mimetype": "text/x-python",
   "codemirror_mode": {
    "name": "ipython",
    "version": 3
   },
   "pygments_lexer": "ipython3",
   "nbconvert_exporter": "python",
   "file_extension": ".py"
  },
  "kernelspec": {
   "name": "python3",
   "display_name": "Python 3.8.11 64-bit ('.venv': venv)"
  },
  "interpreter": {
   "hash": "48066454c36ec3815533a63ea1d84b6ff27b4aea45adf83bf618798fa11b34c2"
  }
 },
 "nbformat": 4,
 "nbformat_minor": 2
}