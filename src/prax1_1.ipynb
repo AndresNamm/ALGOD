{
 "cells": [
  {
   "cell_type": "markdown",
   "source": [
    "[1. VIDEO Sissejuhatus keerukusse](https://owncloud.ut.ee/owncloud/index.php/s/pP6x7sKyFdrrF9j)     \n",
    "[2. VIDEO O ja Teeta relatsioonid](https://owncloud.ut.ee/owncloud/index.php/s/MgZoPfB23bM5L29)\n",
    "\n",
    "## f(n) \n",
    "\n",
    "Funktsioon, mis ültleb, kui palju samme peab algoritm tegema sõltuvalt **n** -st. **n** = sisendi suurus. \n",
    "![image](https://user-images.githubusercontent.com/21141607/132116815-698ca438-de3b-4314-af8b-22cc912a9ab1.png)\n",
    "\n",
    "## O(g)\n",
    "\n",
    "### f(n) on O(g) kui\n",
    "\n",
    "#### SELETUS 1\n",
    "![image](https://user-images.githubusercontent.com/21141607/132116926-587d0b93-4263-4862-9c06-889d18dfbfd7.png)\n",
    "### SELETUS 2 \n",
    "![image](https://user-images.githubusercontent.com/21141607/132116958-9fc03aad-cfd5-4495-863f-6033c4915ca7.png)\n",
    "\n",
    "### Näide, kus f(n) on O(G)\n",
    "\n",
    "![image](https://user-images.githubusercontent.com/21141607/132117203-8ebb6a16-014b-47d3-b9cf-86f08243757a.png)\n",
    "\n",
    "## Θ(g) - Theta\n",
    "\n",
    "\n",
    "\n",
    "+ Eelnevas näites (kus f(n) on O($n^{2}$)) on f(n) ka O($n!$) või O($2^{n}$), või kui g on ükskõik mis muu kiiremini kasvav funktsioon\n",
    "+ Tavaliselt alati näidatakse igale funktsioonile O(g) kõige väiksema kompleksusega funktsioon, e. antud juhul  O($n^{2}$))\n",
    "+ Siiski on defineeritud, et matemaatiliselt eriti korrektne olla ka selline asi nagu Theta~Θ(g), mis sisuliselt ongi  kõige väiksema kompleksusega funktsioon, mis on f(n)ile O(g)\n",
    "![image](https://user-images.githubusercontent.com/21141607/132117260-1301e1d6-56a3-4094-b9e4-1d3989c06e19.png)\n",
    "+ Mina pole töös kunagi pidanud Thetat kasutama \n",
    "+ Teadust lugedes pole ka Thetat näinud\n",
    "\n",
    "\n"
   ],
   "metadata": {}
  },
  {
   "cell_type": "markdown",
   "source": [
    "## O(g) kompleksused järjestused lihtsamast keerukamani\n",
    "\n",
    "![imgaaa](https://i.imgur.com/dkoygOm.png)\n"
   ],
   "metadata": {}
  },
  {
   "cell_type": "code",
   "execution_count": 4,
   "source": [
    "# NÄITED Odest\n",
    "\n",
    "#f(n) on O(n) , aga tegelikult definitsiooni järgi ka O(n**2),kuid see on ebaoluline info, sest meid huvitab , kui täpseim ülempiir.  \n",
    "def f_o_n(arr):\n",
    "    summa=0\n",
    "    for i in arr:\n",
    "        summa=summa+1\n",
    "    print(summa)\n",
    "\n",
    "#f(n) on O(n**2)\n",
    "def f_o_n2(arr):\n",
    "    summa=0\n",
    "    for i in arr:\n",
    "        for j in arr:\n",
    "            summa=summa+i*j\n",
    "    print(summa)"
   ],
   "outputs": [],
   "metadata": {}
  },
  {
   "cell_type": "markdown",
   "source": [],
   "metadata": {}
  }
 ],
 "metadata": {
  "orig_nbformat": 4,
  "language_info": {
   "name": "python",
   "version": "3.8.11",
   "mimetype": "text/x-python",
   "codemirror_mode": {
    "name": "ipython",
    "version": 3
   },
   "pygments_lexer": "ipython3",
   "nbconvert_exporter": "python",
   "file_extension": ".py"
  },
  "kernelspec": {
   "name": "python3",
   "display_name": "Python 3.8.11 64-bit ('.venv': venv)"
  },
  "interpreter": {
   "hash": "48066454c36ec3815533a63ea1d84b6ff27b4aea45adf83bf618798fa11b34c2"
  }
 },
 "nbformat": 4,
 "nbformat_minor": 2
}